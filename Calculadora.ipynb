{
  "nbformat": 4,
  "nbformat_minor": 0,
  "metadata": {
    "colab": {
      "provenance": [],
      "authorship_tag": "ABX9TyNadM1n25ax/FKzhtxZ/Qvu",
      "include_colab_link": true
    },
    "kernelspec": {
      "name": "python3",
      "display_name": "Python 3"
    },
    "language_info": {
      "name": "python"
    }
  },
  "cells": [
    {
      "cell_type": "markdown",
      "metadata": {
        "id": "view-in-github",
        "colab_type": "text"
      },
      "source": [
        "<a href=\"https://colab.research.google.com/github/Louise-sorany/Exerc-cio-python/blob/main/Calculadora.ipynb\" target=\"_parent\"><img src=\"https://colab.research.google.com/assets/colab-badge.svg\" alt=\"Open In Colab\"/></a>"
      ]
    },
    {
      "source": [
        "def calculadora ():\n",
        "  while True:\n",
        "    print(\"\\nEscolha uma operação:\")\n",
        "    print(\"1:Soma\")\n",
        "    print(\"2:Subtração\")\n",
        "    print(\"3:Mutliplicação\")\n",
        "    print(\"4:Divisão\")\n",
        "    print(\"0: Sair\")\n",
        "    opcao=input(\"Digite o número da operação: \")\n",
        "\n",
        "    if opcao>='0':\n",
        "      print(\"Saindo...\")\n",
        "      break\n",
        "    elif opcao in['1','2','3','4']:\n",
        "      num1=float(input(\"Digite o primeiro número:\"))\n",
        "      num2=float(input(\"Digite o segundo número:\"))\n",
        "      if opcao=='1':\n",
        "        resultado=num1+num2\n",
        "        print(f\"Resultado: {num1}+{num2}={resultado}\")\n",
        "      elif opcao=='2':\n",
        "        resultado=num1-num2\n",
        "        print(f\"Resultado: {num1}-{num2}={resultado}\")\n",
        "      elif opcao=='3':\n",
        "        resultado=num1*num2\n",
        "        print(f\"Resultado: {num1}*{num2}={resultado}\")\n",
        "      elif opcao=='4':\n",
        "        if num2!=0:\n",
        "          resultado=num1/num2\n",
        "          print(f\"Resultado: {num1}/{num2}={resultado}\")\n",
        "        else:\n",
        "          print(\"Erro:Divisão por zero não é permitida\")\n",
        "    else:\n",
        "      print(\"Essa opcao não existe. Tente novamente.\")\n",
        "\n",
        "if __name__ == \"__main__\":\n",
        "  calculadora()"
      ],
      "cell_type": "code",
      "metadata": {
        "colab": {
          "base_uri": "https://localhost:8080/"
        },
        "id": "rX8n3dRcPslz",
        "outputId": "b181d3de-9587-45a6-b0ff-ea21ac05c522"
      },
      "execution_count": 13,
      "outputs": [
        {
          "output_type": "stream",
          "name": "stdout",
          "text": [
            "\n",
            "Escolha uma operação:\n",
            "1:Soma\n",
            "2:Subtração\n",
            "3:Mutliplicação\n",
            "4:Divisão\n",
            "0: Sair\n",
            "Digite o número da operação: soma\n",
            "Saindo...\n"
          ]
        }
      ]
    }
  ]
}