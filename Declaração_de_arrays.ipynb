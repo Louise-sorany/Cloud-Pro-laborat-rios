{
  "nbformat": 4,
  "nbformat_minor": 0,
  "metadata": {
    "colab": {
      "provenance": [],
      "authorship_tag": "ABX9TyMp2dtKAQK4KbyrT/CHm9Uq",
      "include_colab_link": true
    },
    "kernelspec": {
      "name": "python3",
      "display_name": "Python 3"
    },
    "language_info": {
      "name": "python"
    }
  },
  "cells": [
    {
      "cell_type": "markdown",
      "metadata": {
        "id": "view-in-github",
        "colab_type": "text"
      },
      "source": [
        "<a href=\"https://colab.research.google.com/github/Louise-sorany/Cloud-Pro-laborat-rios/blob/main/Declara%C3%A7%C3%A3o_de_arrays.ipynb\" target=\"_parent\"><img src=\"https://colab.research.google.com/assets/colab-badge.svg\" alt=\"Open In Colab\"/></a>"
      ]
    },
    {
      "cell_type": "code",
      "execution_count": 2,
      "metadata": {
        "colab": {
          "base_uri": "https://localhost:8080/"
        },
        "id": "pFYhcfQgE5bD",
        "outputId": "88a58298-f521-416f-9ada-d8e331d324e0"
      },
      "outputs": [
        {
          "output_type": "stream",
          "name": "stdout",
          "text": [
            "Produtos da loja de música:'produtos_loja_musica\n",
            "anos de nascimento: [1990, 1995, 2000, 1985, 1992]\n"
          ]
        }
      ],
      "source": [
        "#Array de produtos de uma loja de música\n",
        "produtos_loja_musica=[\"guitarra\",\"bateria\",\"teclado\",\"violino\",\"microfone\"]\n",
        "#Array de anos de nascimento de familiares e amigos\n",
        "anos_nascimento=[1990,1995,2000,1985,1992]\n",
        "#Imprimindo os arrays\n",
        "print(\"Produtos da loja de música:'produtos_loja_musica\")\n",
        "print(\"anos de nascimento:\", anos_nascimento)"
      ]
    }
  ]
}