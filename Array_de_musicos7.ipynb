{
  "nbformat": 4,
  "nbformat_minor": 0,
  "metadata": {
    "colab": {
      "provenance": [],
      "authorship_tag": "ABX9TyO56PyEjanBWqIOjO1sxlgO",
      "include_colab_link": true
    },
    "kernelspec": {
      "name": "python3",
      "display_name": "Python 3"
    },
    "language_info": {
      "name": "python"
    }
  },
  "cells": [
    {
      "cell_type": "markdown",
      "metadata": {
        "id": "view-in-github",
        "colab_type": "text"
      },
      "source": [
        "<a href=\"https://colab.research.google.com/github/Louise-sorany/Cloud-Pro-laborat-rios/blob/main/Array_de_musicos7.ipynb\" target=\"_parent\"><img src=\"https://colab.research.google.com/assets/colab-badge.svg\" alt=\"Open In Colab\"/></a>"
      ]
    },
    {
      "cell_type": "markdown",
      "source": [],
      "metadata": {
        "id": "39MV-WrI-1Ds"
      }
    },
    {
      "cell_type": "markdown",
      "source": [
        "# Como seria a definição de músicos no Array"
      ],
      "metadata": {
        "id": "IRpfmxkp-35m"
      }
    },
    {
      "cell_type": "code",
      "source": [
        "lista_musicos = [ 'Djavan','Roberto Carlos','Elis Regina', 'Tom Jobim', 'Milton Nascimento','Chico Buarque','Nara Leão', 'Pitty', 'Simonal','Moacir Santos', ' Caetano Veloso','Elza Soares','Paulinho da Viola','Yamandú Costa', 'Gal Costa' ]\n",
        "#Imprimindo a quantidade de elementos\n",
        "print(\"Quantidade de elementos:\",len(lista_musicos))"
      ],
      "metadata": {
        "colab": {
          "base_uri": "https://localhost:8080/"
        },
        "id": "q1SnPZhu-_C2",
        "outputId": "ac8b7bd3-5b61-4c9a-bdb5-52c9bf9b25ed"
      },
      "execution_count": 1,
      "outputs": [
        {
          "output_type": "stream",
          "name": "stdout",
          "text": [
            "Quantidade de elementos: 15\n"
          ]
        }
      ]
    },
    {
      "cell_type": "markdown",
      "source": [
        "#Imprimindo o dado salvo no indice 2\n"
      ],
      "metadata": {
        "id": "mbdn7pNVF4RP"
      }
    },
    {
      "cell_type": "code",
      "source": [
        "print(\"Elemento no indice 2:\", lista_musicos[2])"
      ],
      "metadata": {
        "colab": {
          "base_uri": "https://localhost:8080/"
        },
        "id": "_t-5CF01F-18",
        "outputId": "d49832f3-db00-48f7-bc62-dda63396c5f5"
      },
      "execution_count": 2,
      "outputs": [
        {
          "output_type": "stream",
          "name": "stdout",
          "text": [
            "Elemento no indice 2: Elis Regina\n"
          ]
        }
      ]
    },
    {
      "cell_type": "markdown",
      "source": [
        "#Imprimindo o dado salvo no indice 9\n"
      ],
      "metadata": {
        "id": "tr0pD88GGG8o"
      }
    },
    {
      "cell_type": "code",
      "source": [
        "print(\"Elemento no indice 9:\", lista_musicos[9])"
      ],
      "metadata": {
        "colab": {
          "base_uri": "https://localhost:8080/"
        },
        "id": "YiaOJUscGNV-",
        "outputId": "6c796555-78d9-451e-8813-55f35d682c86"
      },
      "execution_count": 3,
      "outputs": [
        {
          "output_type": "stream",
          "name": "stdout",
          "text": [
            "Elemento no indice 9: Moacir Santos\n"
          ]
        }
      ]
    },
    {
      "cell_type": "markdown",
      "source": [
        "#Imprimindo o dado salvo no indice 14"
      ],
      "metadata": {
        "id": "4pp6XxzgGTjD"
      }
    },
    {
      "cell_type": "code",
      "source": [
        "print(\"Elemento no indice 14:\", lista_musicos[14])"
      ],
      "metadata": {
        "colab": {
          "base_uri": "https://localhost:8080/"
        },
        "id": "m1Fkv1iUGoRP",
        "outputId": "4140a9bf-f2d0-4f86-fca2-a92a8dfaf758"
      },
      "execution_count": 4,
      "outputs": [
        {
          "output_type": "stream",
          "name": "stdout",
          "text": [
            "Elemento no indice 14: Gal Costa\n"
          ]
        }
      ]
    }
  ]
}