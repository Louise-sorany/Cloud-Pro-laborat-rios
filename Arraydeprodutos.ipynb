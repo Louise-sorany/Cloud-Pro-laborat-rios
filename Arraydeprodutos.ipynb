{
  "nbformat": 4,
  "nbformat_minor": 0,
  "metadata": {
    "colab": {
      "provenance": [],
      "authorship_tag": "ABX9TyPhYZCu6rlOR8SVQErdDJuF",
      "include_colab_link": true
    },
    "kernelspec": {
      "name": "python3",
      "display_name": "Python 3"
    },
    "language_info": {
      "name": "python"
    }
  },
  "cells": [
    {
      "cell_type": "markdown",
      "metadata": {
        "id": "view-in-github",
        "colab_type": "text"
      },
      "source": [
        "<a href=\"https://colab.research.google.com/github/Louise-sorany/Cloud-Pro-laborat-rios/blob/main/Arraydeprodutos.ipynb\" target=\"_parent\"><img src=\"https://colab.research.google.com/assets/colab-badge.svg\" alt=\"Open In Colab\"/></a>"
      ]
    },
    {
      "cell_type": "code",
      "execution_count": null,
      "metadata": {
        "id": "uXjwPjdAo70z"
      },
      "outputs": [],
      "source": [
        "Exercício: A loja de cosméticos ficou muito feliz com seu trabalho e chamaram você novamente! Dessa vez, eles precisam que você atualize o array de produtos. Agora eles estão vendendo rímel ao invés de batom, e cremes de hidratantes no lugar de loções. Além, disso ficaram sem delineadores, então precisam que voce atualize o array de produtos. Imprima a nova lista no terminal para"
      ]
    },
    {
      "cell_type": "code",
      "source": [
        "lista_produtos=['mascaras faciais','batons', 'esmaltes','perfumes','loções','xampus','sabonetes','delineadores']"
      ],
      "metadata": {
        "id": "g353CM8nq7Yh"
      },
      "execution_count": 2,
      "outputs": []
    },
    {
      "cell_type": "markdown",
      "source": [
        "#Atualizações solicitadas"
      ],
      "metadata": {
        "id": "KfVZz1mUsV1h"
      }
    },
    {
      "cell_type": "code",
      "source": [
        "lista_produtos[1] = 'rimel' #substituir batons por rímel\n",
        "lista_produtos[2] = 'cremes de hidratantes' # substituir loções por cremes hidratantes\n",
        "lista_produtos.append('delineadores') #remover delineadores"
      ],
      "metadata": {
        "id": "k2e5DtO0sZgH"
      },
      "execution_count": 3,
      "outputs": []
    },
    {
      "cell_type": "markdown",
      "source": [
        "#Adicionando dois novos produtos\n"
      ],
      "metadata": {
        "id": "4XaT0I0Is6DM"
      }
    },
    {
      "cell_type": "code",
      "source": [
        "lista_produtos.append('protetor solar')\n",
        "lista_produtos.append('tônicos faciais')"
      ],
      "metadata": {
        "id": "rI0ZfCqLs_L1"
      },
      "execution_count": 4,
      "outputs": []
    },
    {
      "cell_type": "markdown",
      "source": [
        "#Imprimindo a nova lista de produtos"
      ],
      "metadata": {
        "id": "aKs5guAztdw6"
      }
    },
    {
      "cell_type": "code",
      "source": [
        "print(lista_produtos)"
      ],
      "metadata": {
        "colab": {
          "base_uri": "https://localhost:8080/"
        },
        "id": "zwVttz0_tlr9",
        "outputId": "f9da1e22-529b-4624-dc94-1a71272d728e"
      },
      "execution_count": 5,
      "outputs": [
        {
          "output_type": "stream",
          "name": "stdout",
          "text": [
            "['mascaras faciais', 'rimel', 'cremes de hidratantes', 'perfumes', 'loções', 'xampus', 'sabonetes', 'delineadores', 'delineadores', 'protetor solar', 'Tônicos faciais']\n"
          ]
        }
      ]
    },
    {
      "cell_type": "markdown",
      "source": [],
      "metadata": {
        "id": "rP73vvpFtQgF"
      }
    },
    {
      "cell_type": "markdown",
      "source": [],
      "metadata": {
        "id": "YTAlYESPpLJn"
      }
    }
  ]
}