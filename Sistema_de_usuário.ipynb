{
  "nbformat": 4,
  "nbformat_minor": 0,
  "metadata": {
    "colab": {
      "provenance": [],
      "authorship_tag": "ABX9TyNkRcbvHmH4ewOZWcCODPde",
      "include_colab_link": true
    },
    "kernelspec": {
      "name": "python3",
      "display_name": "Python 3"
    },
    "language_info": {
      "name": "python"
    }
  },
  "cells": [
    {
      "cell_type": "markdown",
      "metadata": {
        "id": "view-in-github",
        "colab_type": "text"
      },
      "source": [
        "<a href=\"https://colab.research.google.com/github/Louise-sorany/Cloud-Pro-laborat-rios/blob/main/Sistema_de_usu%C3%A1rio.ipynb\" target=\"_parent\"><img src=\"https://colab.research.google.com/assets/colab-badge.svg\" alt=\"Open In Colab\"/></a>"
      ]
    },
    {
      "source": [
        "def obter_idade(ano_nascimento):\n",
        "  ano_atual = 2022\n",
        "  return ano_atual - ano_nascimento\n",
        "\n",
        "def main():\n",
        "  nome_completo = input(\"Digite seu nome completo: \")\n",
        "  while True:\n",
        "    try:\n",
        "      ano_nascimento = int(input(\"Digite seu ano de nascimento (entre 1922 e 2021): \"))\n",
        "      if 1922 <= ano_nascimento <= 2021:\n",
        "        idade = obter_idade(ano_nascimento)\n",
        "        print(f\"{nome_completo}, você completou ou completará {idade} anos em 2022.\")\n",
        "        break\n",
        "      else:\n",
        "        print(\"Ano inválido. Por favor, digite um ano entre 1922 e 2021.\")\n",
        "    except ValueError:\n",
        "      print(\"Entrada inválida. Por favor, digite um número.\")\n",
        "\n",
        "if __name__ == \"__main__\":\n",
        "  main()"
      ],
      "cell_type": "code",
      "metadata": {
        "colab": {
          "base_uri": "https://localhost:8080/"
        },
        "id": "JmT4LumaZ7Ok",
        "outputId": "40785ecd-7b89-4200-da6e-d9e829069e0a"
      },
      "execution_count": 3,
      "outputs": [
        {
          "output_type": "stream",
          "name": "stdout",
          "text": [
            "Digite seu nome completo: Louise\n",
            "Digite seu ano de nascimento (entre 1922 e 2021): 1991\n",
            "Louise, você completou ou completará 31 anos em 2022.\n"
          ]
        }
      ]
    }
  ]
}