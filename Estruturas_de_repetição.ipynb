{
  "nbformat": 4,
  "nbformat_minor": 0,
  "metadata": {
    "colab": {
      "provenance": [],
      "include_colab_link": true
    },
    "kernelspec": {
      "name": "python3",
      "display_name": "Python 3"
    },
    "language_info": {
      "name": "python"
    }
  },
  "cells": [
    {
      "cell_type": "markdown",
      "metadata": {
        "id": "view-in-github",
        "colab_type": "text"
      },
      "source": [
        "<a href=\"https://colab.research.google.com/github/Louise-sorany/Cloud-Pro-laborat-rios/blob/main/Estruturas_de_repeti%C3%A7%C3%A3o.ipynb\" target=\"_parent\"><img src=\"https://colab.research.google.com/assets/colab-badge.svg\" alt=\"Open In Colab\"/></a>"
      ]
    },
    {
      "cell_type": "code",
      "execution_count": null,
      "metadata": {
        "id": "QJDXMQy44Nwj"
      },
      "outputs": [],
      "source": [
        "# Estruturas de repetição\n",
        "print(\"0 a 4\")\n",
        "for i in range(5):\n",
        "  print(i)\n",
        "\n",
        "print(\"2 a 4\")\n",
        "for i in range(2, 5):  #  começa no 2\n",
        "  print(i)\n",
        "\n",
        "print(\"10 a 1\")\n",
        "for i in range(10, 0, -1):  # começa no 10, para no zero e decresce em 1\n",
        "  print(i)\n",
        "\n"
      ]
    },
    {
      "cell_type": "code",
      "source": [
        "# while com contador\n",
        "\n",
        "count = 1\n",
        "while count < 10:\n",
        "    print(count)\n",
        "    count = count + 1\n",
        "    # count += 1\n",
        "\n",
        "    #incrementa 1 no contador\n"
      ],
      "metadata": {
        "id": "IKUh6m2i76bu"
      },
      "execution_count": null,
      "outputs": []
    },
    {
      "cell_type": "code",
      "source": [
        "# while com condição\n",
        "\n",
        "continuar_perguntando = True\n",
        "condicao1 = \"sim\" == \"sim\" # True\n",
        "condicao1 = \"sim\" == \"não\" # False\n",
        "\n",
        "\n",
        "while continuar_perguntando:\n",
        "    resposta = input(\"Devo parar o loop? (sim/não)\")\n",
        "\n",
        "    if resposta == \"sim\":\n",
        "        continuar_perguntando = False\n",
        "        print(\"Fim do loop\")\n",
        "\n"
      ],
      "metadata": {
        "id": "69vyUEyU9zAq"
      },
      "execution_count": null,
      "outputs": []
    },
    {
      "cell_type": "code",
      "source": [
        "# Aprofundamento em loops\n",
        "for i in range(10):\n",
        "    if (i == 6):\n",
        "      continue # pula essa interação\n",
        "    if (i == 8):\n",
        "      break # encerra o loop\n",
        "    print(i)\n",
        "\n"
      ],
      "metadata": {
        "id": "fOvkXsyt76S8"
      },
      "execution_count": null,
      "outputs": []
    },
    {
      "cell_type": "code",
      "source": [
        "# Vetores(Arrays)\n",
        "vetor = [10, 43, 78, 368]\n",
        "\n",
        "len(vetor) # 4\n",
        "\n",
        "# usando o index\n",
        "for i in range(len(vetor)):\n",
        "  print(i)\n",
        "  print(vetor[i])\n",
        "\n",
        "\n",
        "print(\"----\")\n",
        "\n",
        "# ou usando o item\n",
        "for item in vetor:\n",
        "  print(item)"
      ],
      "metadata": {
        "id": "cAFKiaTy7djm",
        "colab": {
          "base_uri": "https://localhost:8080/"
        },
        "outputId": "98ddd715-7326-4db5-8553-d55ad82aba4c"
      },
      "execution_count": null,
      "outputs": [
        {
          "output_type": "stream",
          "name": "stdout",
          "text": [
            "0\n",
            "10\n",
            "1\n",
            "43\n",
            "2\n",
            "78\n",
            "3\n",
            "368\n",
            "----\n",
            "10\n",
            "43\n",
            "78\n",
            "368\n"
          ]
        }
      ]
    },
    {
      "cell_type": "markdown",
      "source": [
        "Ex. 1 - Escreva um código que receba um número via input e calcule a tabuada desse número (1 a 10)"
      ],
      "metadata": {
        "id": "1wNPDxn4Dria"
      }
    },
    {
      "cell_type": "code",
      "source": [
        "numero = int(input(\"Entre com um número\"))\n",
        "\n",
        "for i in range(1, 11):\n",
        "  resultado = numero * i\n",
        "  print(resultado)"
      ],
      "metadata": {
        "id": "-9t1ML4N_T5r"
      },
      "execution_count": null,
      "outputs": []
    },
    {
      "cell_type": "markdown",
      "source": [
        " Ex. 2 - Considerando a seguinte lista de presença, imprima os nomes de todos os presentes numerando cada um deles"
      ],
      "metadata": {
        "id": "T9qD96ooBDaI"
      }
    },
    {
      "cell_type": "code",
      "source": [
        "lista_de_presenca = [\"Carlos\", \"Maria Claudia\", \"Diogenes\", \"Roberta\", \"Ana Clara\"]\n",
        "\n",
        "\n",
        "for i in range(len(lista_de_presenca)):\n",
        "  print(f\"{i+1}.\", lista_de_presenca[i])"
      ],
      "metadata": {
        "id": "ZVdgoSDPBiaG"
      },
      "execution_count": null,
      "outputs": []
    }
  ]
}