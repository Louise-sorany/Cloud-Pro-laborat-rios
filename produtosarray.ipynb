{
  "nbformat": 4,
  "nbformat_minor": 0,
  "metadata": {
    "colab": {
      "provenance": [],
      "authorship_tag": "ABX9TyNHU0/Cx7aczD/xG/qLzCHJ",
      "include_colab_link": true
    },
    "kernelspec": {
      "name": "python3",
      "display_name": "Python 3"
    },
    "language_info": {
      "name": "python"
    }
  },
  "cells": [
    {
      "cell_type": "markdown",
      "metadata": {
        "id": "view-in-github",
        "colab_type": "text"
      },
      "source": [
        "<a href=\"https://colab.research.google.com/github/Louise-sorany/Cloud-Pro-laborat-rios/blob/main/produtosarray.ipynb\" target=\"_parent\"><img src=\"https://colab.research.google.com/assets/colab-badge.svg\" alt=\"Open In Colab\"/></a>"
      ]
    },
    {
      "cell_type": "markdown",
      "source": [
        "Uma loja de cosméticos abriu no seu bairro e pediram para você elaborar um sistema que imprime na tela na frente da loja os novos produtos que chegaram.O sistema da loja já tem um array com os produtos, você precisa apenas imprimir eles no terminal um por um."
      ],
      "metadata": {
        "id": "bbqmPxXh0KnK"
      }
    },
    {
      "cell_type": "markdown",
      "source": [],
      "metadata": {
        "id": "2cetDAQL1Q8x"
      }
    },
    {
      "cell_type": "markdown",
      "source": [
        "#Lista de produtos"
      ],
      "metadata": {
        "id": "xSV73vOF1SRA"
      }
    },
    {
      "cell_type": "code",
      "source": [
        "lista_produtos=['mascara facial','batons',  'esmaltes', 'perfumes', 'vanidades']"
      ],
      "metadata": {
        "id": "uPezza0w1WSu"
      },
      "execution_count": null,
      "outputs": []
    },
    {
      "cell_type": "markdown",
      "source": [
        "#Função para imprimir os produtos"
      ],
      "metadata": {
        "id": "dccX2HGW1l0_"
      }
    },
    {
      "cell_type": "code",
      "source": [
        "def imprimir_produtos(lista_produtos):\n",
        "  for produto in lista_produtos:\n",
        "    print(produto)"
      ],
      "metadata": {
        "id": "B16U-KUL1tEV"
      },
      "execution_count": 1,
      "outputs": []
    },
    {
      "cell_type": "markdown",
      "source": [
        "#Chamar a função"
      ],
      "metadata": {
        "id": "673tsM-613NL"
      }
    },
    {
      "cell_type": "code",
      "source": [
        "imprimir_produtos(lista_produtos)"
      ],
      "metadata": {
        "id": "UJOxCEBf2jI1"
      },
      "execution_count": null,
      "outputs": []
    }
  ]
}